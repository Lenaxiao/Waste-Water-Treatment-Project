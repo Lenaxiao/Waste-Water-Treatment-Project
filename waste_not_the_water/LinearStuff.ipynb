{
 "cells": [
  {
   "cell_type": "markdown",
   "metadata": {},
   "source": [
    "# Linear Regression"
   ]
  },
  {
   "cell_type": "code",
   "execution_count": 1,
   "metadata": {},
   "outputs": [
    {
     "name": "stderr",
     "output_type": "stream",
     "text": [
      "/Users/sijiaxiao/miniconda3/lib/python3.6/site-packages/statsmodels/compat/pandas.py:56: FutureWarning: The pandas.core.datetools module is deprecated and will be removed in a future version. Please use the pandas.tseries module instead.\n",
      "  from pandas.core import datetools\n"
     ]
    }
   ],
   "source": [
    "import pandas as pd\n",
    "import numpy as np\n",
    "import matplotlib.pyplot as plt\n",
    "%matplotlib inline\n",
    "from sklearn import feature_selection\n",
    "import pandas.tseries\n",
    "import statsmodels.api as sm\n",
    "import statsmodels.formula.api as smf\n",
    "from scipy import stats\n",
    "from sklearn import svm\n",
    "from sklearn.model_selection import train_test_split\n",
    "from sklearn.metrics import r2_score\n",
    "from sklearn.metrics import mean_squared_error"
   ]
  },
  {
   "cell_type": "code",
   "execution_count": null,
   "metadata": {},
   "outputs": [],
   "source": [
    "df_cap = pd.read_csv('T_UWWTPS.csv')\n",
    "df_cap2 = df_cap.drop(df_cap.index[4332]) # remove abnormal point\n",
    "df_temp = pd.read_csv('location_temperature.csv')\n",
    "df_cap3 = df_cap2[['uwwLatitude', 'uwwLongitude']]\n",
    "df_cleaned = pd.DataFrame(data = {'LoadEntering': df_cap2['uwwLoadEnteringUWWTP'],'Capacity': df_cap2['uwwCapacity'], \n",
    "                        'T': df_temp['temperature'],'NRemoval':df_cap2['uwwNRemoval'],'PRemoval':df_cap2['uwwPRemoval'],\n",
    "                        'Longitude': df_cap3['uwwLongitude'], 'Latitude':df_cap3['uwwLatitude']})\n",
    "df_no_missing = df_cleaned.dropna()\n",
    "df_no_zeros = df_no_missing[df_no_missing.LoadEntering != 0]\n",
    "df = df_no_zeros[df_no_zeros.Capacity != 0]\n",
    "\n",
    "x = df[['LoadEntering', 'Longitude', 'Latitude']]\n",
    "y = df['Capacity']\n",
    "x_train, x_test, y_train, y_test = train_test_split(x, y, test_size = 0.1, random_state = 1010)\n",
    "df_train = pd.DataFrame(data = {'Capacity':y_train, 'LoadEntering':x_train['LoadEntering'], \n",
    "                        'Longitude':x_train['Longitude'], 'Latitude':x_train['Latitude']})\n",
    "\n",
    "model = smf.ols(\"Capacity ~ LoadEntering\", df_train)\n",
    "result = model.fit()\n",
    "y_predict = result.predict(x_test)\n",
    "r_2 = r2_score(y_test, y_predict)"
   ]
  },
  {
   "cell_type": "code",
   "execution_count": null,
   "metadata": {},
   "outputs": [],
   "source": [
    "# plot scatter points of training set and testing set\n",
    "plt.subplots(figsize = (8, 5), dpi = 800)\n",
    "plt.scatter(x_train.LoadEntering, y_train, c='tan', marker = '.', label = 'training data')\n",
    "plt.scatter(x_test.LoadEntering, y_test, c='r', marker = '.', label = 'testing data')\n",
    "plt.plot(x_test.LoadEntering, y_predict)\n",
    "plt.legend()\n",
    "plt.xlabel('Load Entering')\n",
    "plt.ylabel('Capacity')\n",
    "plt.title('Linear Regression')"
   ]
  },
  {
   "cell_type": "code",
   "execution_count": null,
   "metadata": {},
   "outputs": [],
   "source": [
    "# studentized residual and leverage\n",
    "influence = result.get_influence()\n",
    "stu_residual = influence.resid_studentized_external\n",
    "(cooks, p) = influence.cooks_distance\n",
    "(dffits, p) = influence.dffits\n",
    "leverage = influence.hat_matrix_diag\n",
    "# high leverage points\n",
    "fig, axes = plt.subplots(1, 2, figsize = (10, 4), dpi = 700)\n",
    "axes[0].scatter(leverage, stu_residual, marker = '.')\n",
    "axes[0].set_title('Studentized Residual vs. Leverage')\n",
    "axes[0].set_xlabel('Leverage')\n",
    "axes[0].set_ylabel('Studentized Residual')\n",
    "axes[0].axhline(y = 0, ls = '--', linewidth = 0.7, c = 'black')\n",
    "# outliers\n",
    "axes[1].scatter(result.predict(), stu_residual, marker='.')\n",
    "axes[1].set_title('Studentized Residual vs. Fitted Values')\n",
    "axes[1].set_xlabel('Fitted Values')\n",
    "axes[1].set_ylabel('Studentized Residual')\n",
    "axes[1].axhline(y = 0, ls = '--', linewidth = 0.7, c = 'black')"
   ]
  },
  {
   "cell_type": "code",
   "execution_count": null,
   "metadata": {},
   "outputs": [],
   "source": []
  },
  {
   "cell_type": "code",
   "execution_count": null,
   "metadata": {},
   "outputs": [],
   "source": []
  },
  {
   "cell_type": "code",
   "execution_count": null,
   "metadata": {},
   "outputs": [],
   "source": [
    "print(mean_squared_error(y_train, result.predict(x_train)))\n",
    "print(mean_squared_error(y_test, result.predict(x_test)))"
   ]
  },
  {
   "cell_type": "markdown",
   "metadata": {},
   "source": [
    "# Ridge Regression"
   ]
  },
  {
   "cell_type": "code",
   "execution_count": null,
   "metadata": {},
   "outputs": [],
   "source": [
    "import xlrd\n",
    "from sklearn.linear_model import Ridge"
   ]
  },
  {
   "cell_type": "code",
   "execution_count": null,
   "metadata": {},
   "outputs": [],
   "source": [
    "train,test = train_test_split(df, test_size=0.1, random_state=1010)\n",
    "#normalized data for Ridge / LASSO \n",
    "train_normalized=train/train.std()\n",
    "test_normalized=test/test.std()"
   ]
  },
  {
   "cell_type": "code",
   "execution_count": null,
   "metadata": {},
   "outputs": [],
   "source": [
    "heat_ridge=Ridge()\n",
    "a=1e0\n",
    "heat_ridge.set_params(alpha=a)\n",
    "result2=heat_ridge.fit(train_normalized[['Latitude','LoadEntering','Longitude']],train_normalized.Capacity)"
   ]
  },
  {
   "cell_type": "code",
   "execution_count": null,
   "metadata": {},
   "outputs": [],
   "source": [
    "plt.subplots(figsize = (10, 8), dpi =700)\n",
    "plt.scatter(train_normalized.Capacity,heat_ridge.predict(train_normalized[['Latitude','LoadEntering','Longitude']]),\n",
    "           label='training set')\n",
    "plt.scatter(test_normalized.Capacity,heat_ridge.predict(test_normalized[['Latitude','LoadEntering','Longitude']])\n",
    "            , c='r', label='testing set')\n",
    "plt.plot([0,60], [0, 60], c='black',ls='--')\n",
    "plt.xlabel('Normalized observed Capacity')\n",
    "plt.ylabel('Normalized predicted capacity')\n",
    "plt.title('Ridged Regression')\n",
    "plt.xlim((0, 60))\n",
    "plt.ylim((0, 60))\n",
    "plt.legend()"
   ]
  },
  {
   "cell_type": "code",
   "execution_count": null,
   "metadata": {},
   "outputs": [],
   "source": [
    "customer = pd.DataFrame(data = {'LoadEntering': [6200.0], 'Longitude': [17.0], 'Latitude': [47.0], 'NRemoval': [True], 'PRemoval':[True]})\n",
    "heat_ridge.predict(customer[['Latitude','LoadEntering','Longitude']])"
   ]
  },
  {
   "cell_type": "code",
   "execution_count": null,
   "metadata": {},
   "outputs": [],
   "source": [
    "r2_score(test_normalized.Capacity, heat_ridge.predict(test_normalized[['Latitude','LoadEntering','Longitude']]))"
   ]
  },
  {
   "cell_type": "code",
   "execution_count": null,
   "metadata": {},
   "outputs": [],
   "source": [
    "# RR vs lambda (based on sklearn tutorial)\n",
    "coefs = []\n",
    "trainerror = []\n",
    "testerror = []\n",
    "\n",
    "# do you know what is happening here? \n",
    "lambdas = np.logspace(-6,6,200)\n",
    "model=Ridge()\n",
    "\n",
    "# loop over lambda values (strength of regularization)\n",
    "for l in lambdas:\n",
    "    model.set_params(alpha=l)\n",
    "    model.fit(train_normalized[['Latitude','LoadEntering','Longitude']],train_normalized.Capacity)\n",
    "    coefs.append(model.coef_)\n",
    "    trainerror.append(mean_squared_error(train_normalized.Capacity,model.predict(\n",
    "        train_normalized[['Latitude','LoadEntering','Longitude']])))\n",
    "    testerror.append(mean_squared_error(test_normalized.Capacity,model.predict(\n",
    "        test_normalized[['Latitude','LoadEntering','Longitude']])))\n",
    "\n",
    "plt.figure(figsize=(10,3))\n",
    "plt.subplot(121)\n",
    "plt.plot(lambdas,coefs)\n",
    "plt.xscale('log')\n",
    "plt.xlabel('$\\lambda$')\n",
    "plt.ylabel('coefs')\n",
    "plt.title('RR coefs vs $\\lambda$')\n",
    "plt.subplot(122)\n",
    "plt.plot(lambdas,trainerror,label='train error')\n",
    "plt.plot(lambdas,testerror,label='test error')\n",
    "plt.xscale('log')\n",
    "plt.xlabel('$\\lambda$')\n",
    "plt.ylabel('error')\n",
    "plt.legend(loc=1)\n",
    "plt.title('error vs $\\lambda$')"
   ]
  },
  {
   "cell_type": "markdown",
   "metadata": {},
   "source": [
    "* F_statistics is greater than 1 and p value is 0, which is a strong evidence to show that there is a relationship between LoadEntering and Capacity. $R^2$ is 0.867, which means 86.7% of training data can be interpreted in the regression line. "
   ]
  },
  {
   "cell_type": "code",
   "execution_count": null,
   "metadata": {},
   "outputs": [],
   "source": [
    "# studentized residual and leverage\n",
    "influence = result.get_influence()\n",
    "stu_residual = influence.resid_studentized_external\n",
    "(cooks, p) = influence.cooks_distance\n",
    "(dffits, p) = influence.dffits\n",
    "leverage = influence.hat_matrix_diag\n",
    "# high leverage points\n",
    "fig, axes = plt.subplots(1, 2, figsize = (10, 4), dpi = 700)\n",
    "axes[0].scatter(leverage, stu_residual, marker = '.')\n",
    "axes[0].set_title('Studentized Residual vs. Leverage')\n",
    "axes[0].set_xlabel('Leverage')\n",
    "axes[0].set_ylabel('Studentized Residual')\n",
    "axes[0].axhline(y = 0, ls = '--', linewidth = 0.7, c = 'black')\n",
    "# outliers\n",
    "axes[1].scatter(result.predict(), stu_residual, marker='.')\n",
    "axes[1].set_title('Studentized Residual vs. Fitted Values')\n",
    "axes[1].set_xlabel('Fitted Values')\n",
    "axes[1].set_ylabel('Studentized Residual')\n",
    "axes[1].axhline(y = 0, ls = '--', linewidth = 0.7, c = 'black')"
   ]
  },
  {
   "cell_type": "code",
   "execution_count": null,
   "metadata": {},
   "outputs": [],
   "source": []
  },
  {
   "cell_type": "code",
   "execution_count": null,
   "metadata": {},
   "outputs": [],
   "source": []
  },
  {
   "cell_type": "code",
   "execution_count": null,
   "metadata": {},
   "outputs": [],
   "source": []
  },
  {
   "cell_type": "code",
   "execution_count": null,
   "metadata": {},
   "outputs": [],
   "source": []
  },
  {
   "cell_type": "code",
   "execution_count": null,
   "metadata": {},
   "outputs": [],
   "source": []
  },
  {
   "cell_type": "code",
   "execution_count": null,
   "metadata": {},
   "outputs": [],
   "source": []
  },
  {
   "cell_type": "code",
   "execution_count": null,
   "metadata": {},
   "outputs": [],
   "source": [
    "dfy = pd.DataFrame(data = {'A': [1, 2, 3, 4, 5, np.inf], 'B':[0, 5, 4, 3, 5, 1], 'C': [2, 4, 6, 8, 9, 4]})\n",
    "dfy"
   ]
  },
  {
   "cell_type": "code",
   "execution_count": null,
   "metadata": {},
   "outputs": [],
   "source": [
    "((dfy.B.all()) and (dfy.C.all())).all()"
   ]
  },
  {
   "cell_type": "code",
   "execution_count": null,
   "metadata": {},
   "outputs": [],
   "source": []
  },
  {
   "cell_type": "markdown",
   "metadata": {},
   "source": [
    "## Demo Section"
   ]
  },
  {
   "cell_type": "code",
   "execution_count": null,
   "metadata": {},
   "outputs": [],
   "source": [
    "import linear_regression as lr"
   ]
  },
  {
   "cell_type": "code",
   "execution_count": null,
   "metadata": {},
   "outputs": [],
   "source": [
    "df = lr.data_cleaning()"
   ]
  },
  {
   "cell_type": "code",
   "execution_count": null,
   "metadata": {},
   "outputs": [],
   "source": [
    "r2_lr, filename_lr, r2_rr, mse_rr, filename_rr = lr.linear_regression_result()"
   ]
  },
  {
   "cell_type": "code",
   "execution_count": null,
   "metadata": {},
   "outputs": [],
   "source": [
    "customer = pd.DataFrame(data = {'LoadEntering': [6200.0], 'Longitude': [47.0], 'Latitude': [47.0], 'NRemoval': [True], 'PRemoval':[True]})"
   ]
  },
  {
   "cell_type": "code",
   "execution_count": null,
   "metadata": {},
   "outputs": [],
   "source": [
    "y_customer_lr, y_customer_rr = lr.customer_inter(customer, filename_lr, filename_rr)"
   ]
  },
  {
   "cell_type": "code",
   "execution_count": null,
   "metadata": {},
   "outputs": [],
   "source": [
    "print('filename:      ', filename_lr, '\\t',filename_rr)\n",
    "print('prediction:    ',y_customer_lr.tolist()[0], '\\t',y_customer_rr[0])\n",
    "print('R^2:           ', r2_lr, '\\t',r2_rr)\n",
    "print('Normalized MSE:', mse_rr)"
   ]
  },
  {
   "cell_type": "code",
   "execution_count": 2,
   "metadata": {},
   "outputs": [],
   "source": [
    "import nearest_n as nn"
   ]
  },
  {
   "cell_type": "code",
   "execution_count": 3,
   "metadata": {},
   "outputs": [],
   "source": [
    "customer = pd.DataFrame(data = {'LoadEntering': [6200.0], 'Longitude': [47.0], 'Latitude': [47.0], 'NRemoval': [True], 'PRemoval':[True]})\n",
    "df_NP = nn.NP_removal(customer)"
   ]
  },
  {
   "cell_type": "code",
   "execution_count": 12,
   "metadata": {},
   "outputs": [
    {
     "data": {
      "text/html": [
       "<div>\n",
       "<style scoped>\n",
       "    .dataframe tbody tr th:only-of-type {\n",
       "        vertical-align: middle;\n",
       "    }\n",
       "\n",
       "    .dataframe tbody tr th {\n",
       "        vertical-align: top;\n",
       "    }\n",
       "\n",
       "    .dataframe thead th {\n",
       "        text-align: right;\n",
       "    }\n",
       "</style>\n",
       "<table border=\"1\" class=\"dataframe\">\n",
       "  <thead>\n",
       "    <tr style=\"text-align: right;\">\n",
       "      <th></th>\n",
       "      <th>Latitude</th>\n",
       "      <th>LoadEntering</th>\n",
       "      <th>Longitude</th>\n",
       "      <th>NRemoval</th>\n",
       "      <th>PRemoval</th>\n",
       "      <th>Capacity</th>\n",
       "    </tr>\n",
       "  </thead>\n",
       "  <tbody>\n",
       "    <tr>\n",
       "      <th>customer</th>\n",
       "      <td>47.00000</td>\n",
       "      <td>6200.0</td>\n",
       "      <td>47.0000</td>\n",
       "      <td>True</td>\n",
       "      <td>True</td>\n",
       "      <td>NaN</td>\n",
       "    </tr>\n",
       "    <tr>\n",
       "      <th>NP-Removal</th>\n",
       "      <td>55.83380</td>\n",
       "      <td>6200.0</td>\n",
       "      <td>24.9413</td>\n",
       "      <td>True</td>\n",
       "      <td>True</td>\n",
       "      <td>9400.0</td>\n",
       "    </tr>\n",
       "    <tr>\n",
       "      <th>NP-nonRemoval</th>\n",
       "      <td>44.98956</td>\n",
       "      <td>6206.0</td>\n",
       "      <td>26.2243</td>\n",
       "      <td>False</td>\n",
       "      <td>False</td>\n",
       "      <td>8292.0</td>\n",
       "    </tr>\n",
       "  </tbody>\n",
       "</table>\n",
       "</div>"
      ],
      "text/plain": [
       "               Latitude  LoadEntering  Longitude  NRemoval  PRemoval  Capacity\n",
       "customer       47.00000        6200.0    47.0000      True      True       NaN\n",
       "NP-Removal     55.83380        6200.0    24.9413      True      True    9400.0\n",
       "NP-nonRemoval  44.98956        6206.0    26.2243     False     False    8292.0"
      ]
     },
     "execution_count": 12,
     "metadata": {},
     "output_type": "execute_result"
    }
   ],
   "source": [
    "df_NP.index = ['customer', 'NP-Removal', 'Non NP-Removal']\n",
    "df_NP"
   ]
  },
  {
   "cell_type": "code",
   "execution_count": 18,
   "metadata": {},
   "outputs": [
    {
     "data": {
      "text/plain": [
       "True"
      ]
     },
     "execution_count": 18,
     "metadata": {},
     "output_type": "execute_result"
    }
   ],
   "source": [
    "import os.path\n",
    "os.path.isfile(\"ridge_result.sav\") "
   ]
  },
  {
   "cell_type": "code",
   "execution_count": null,
   "metadata": {},
   "outputs": [],
   "source": []
  }
 ],
 "metadata": {
  "kernelspec": {
   "display_name": "Python 3",
   "language": "python",
   "name": "python3"
  },
  "language_info": {
   "codemirror_mode": {
    "name": "ipython",
    "version": 3
   },
   "file_extension": ".py",
   "mimetype": "text/x-python",
   "name": "python",
   "nbconvert_exporter": "python",
   "pygments_lexer": "ipython3",
   "version": "3.6.3"
  }
 },
 "nbformat": 4,
 "nbformat_minor": 2
}
